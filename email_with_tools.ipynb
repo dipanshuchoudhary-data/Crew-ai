{
 "cells": [
  {
   "cell_type": "code",
   "execution_count": 2,
   "id": "b3dbb1b7",
   "metadata": {},
   "outputs": [
    {
     "data": {
      "text/plain": [
       "True"
      ]
     },
     "execution_count": 2,
     "metadata": {},
     "output_type": "execute_result"
    }
   ],
   "source": [
    "from dotenv import load_dotenv\n",
    "from langchain_openai import ChatOpenAI\n",
    "import os\n",
    "load_dotenv()"
   ]
  },
  {
   "cell_type": "code",
   "execution_count": 3,
   "id": "694dcb4c",
   "metadata": {},
   "outputs": [],
   "source": [
    "from crewai import LLM\n",
    "model = LLM(\n",
    "    model=\"google/gemma-3n-e2b-it:free\",\n",
    "    api_key=os.getenv(\"OPENROUTER_API_KEY\"),\n",
    "    base_url=\"https://openrouter.ai/api/v1\",\n",
    "    temperature=0.7,\n",
    ")"
   ]
  },
  {
   "cell_type": "code",
   "execution_count": 22,
   "id": "db0b0e9a",
   "metadata": {},
   "outputs": [],
   "source": [
    "original_email = \"\"\"hey ayush can u pls chng the monday OOPJ n AWT class time frm 12-2 to 3-5 its free slot i hv to go home for sum emergncy wrk. dipanshu bca eve 24-27\"\"\"\n"
   ]
  },
  {
   "cell_type": "markdown",
   "id": "53a7b9ed",
   "metadata": {},
   "source": [
    "Simple Tool execution\n"
   ]
  },
  {
   "cell_type": "code",
   "execution_count": 26,
   "id": "dfc6c35d",
   "metadata": {},
   "outputs": [
    {
     "name": "stdout",
     "output_type": "stream",
     "text": [
      "Using Tool: Replace Jargons\n"
     ]
    },
    {
     "data": {
      "text/plain": [
       "\"Consider replacing 'OOPJ' with 'Java'\\nConsider replacing 'AWT' with 'Advanced web technology'\\nConsider replacing 'BCA' with 'Bachelor of Computer Applications'\\nConsider replacing 'u' with 'you'\\nConsider replacing 'pls' with 'please'\""
      ]
     },
     "execution_count": 26,
     "metadata": {},
     "output_type": "execute_result"
    }
   ],
   "source": [
    "from crewai.tools import BaseTool\n",
    "\n",
    "class ReplaceJargonsTools(BaseTool):\n",
    "   name:str = \"Replace Jargons\"\n",
    "   description:str = \"Replace Jargons with more specific terms\"\n",
    "\n",
    "   def _run(self,email:str) ->str:\n",
    "       replacements={\n",
    "           \"OOPJ\": \"Java\",\n",
    "           \"AWT\" : \"Advanced web technology\",\n",
    "           \"EVS\" : \"Environmental science\",\n",
    "           \"BCA\": \"Bachelor of Computer Applications\",\n",
    "           \"u\": \"you\",\n",
    "           \"pls\": \"please\",\n",
    "       }\n",
    "\n",
    "       suggestions = []\n",
    "       email_lower = email.lower()\n",
    "       for jargon,replacement in replacements.items():\n",
    "           if jargon.lower() in email_lower:\n",
    "               suggestions.append(f\"Consider replacing '{jargon}' with '{replacement}'\")\n",
    "       if not suggestions:\n",
    "           return \"No jargon or abbreviations detected that need replacement.\"\n",
    "\n",
    "       return \"\\n\".join(suggestions)\n",
    "   \n",
    "jargon_tool = ReplaceJargonsTools()\n",
    "jargon_tool.run(original_email)"
   ]
  },
  {
   "cell_type": "code",
   "execution_count": 27,
   "id": "6361c716",
   "metadata": {},
   "outputs": [],
   "source": [
    "from crewai import Agent,Task,Crew\n",
    "\n",
    "email_assistant = Agent(\n",
    "    role=\"Email Assistant Agent\",\n",
    "    goal=\"Improve emails and make them sound professional and clear\",\n",
    "    backstory=\"A highly experienced communication expert skilled in professional email writing\",\n",
    "    verbose=True,\n",
    "    tools=[jargon_tool],\n",
    "    llm = model\n",
    ")"
   ]
  },
  {
   "cell_type": "code",
   "execution_count": 28,
   "id": "fa350213",
   "metadata": {},
   "outputs": [],
   "source": [
    "description = \"You are an expert communication assistant. Improve the following email to make it more clear, polite, and professional while keeping the original intent unchanged. Correct grammar and improve sentence structure as needed.\""
   ]
  },
  {
   "cell_type": "code",
   "execution_count": 29,
   "id": "904bced7",
   "metadata": {},
   "outputs": [],
   "source": [
    "email_task = Task(\n",
    "    description=f\"\"\"{description} \n",
    "     Original email to improve:\n",
    "    '''{original_email}'''\"\"\",\n",
    "    agent = email_assistant,\n",
    "    expected_output=\"A professional written email with proper formatting and content\"\n",
    ")"
   ]
  },
  {
   "cell_type": "code",
   "execution_count": 32,
   "id": "47f724fa",
   "metadata": {},
   "outputs": [
    {
     "name": "stdout",
     "output_type": "stream",
     "text": [
      "\u001b[35m┌─\u001b[0m\u001b[35m────────────────────────────\u001b[0m\u001b[35m 🤖 Agent Started \u001b[0m\u001b[35m─────────────────────────────\u001b[0m\u001b[35m─┐\u001b[0m\n",
      "\u001b[35m│\u001b[0m                                                                             \u001b[35m│\u001b[0m\n",
      "\u001b[35m│\u001b[0m  \u001b[37mAgent: \u001b[0m\u001b[1;92mEmail Assistant Agent\u001b[0m                                               \u001b[35m│\u001b[0m\n",
      "\u001b[35m│\u001b[0m                                                                             \u001b[35m│\u001b[0m\n",
      "\u001b[35m│\u001b[0m  \u001b[37mTask: \u001b[0m\u001b[92mYou are an expert communication assistant. Improve the following \u001b[0m    \u001b[35m│\u001b[0m\n",
      "\u001b[35m│\u001b[0m  \u001b[92memail to make it more clear, polite, and professional while keeping the \u001b[0m   \u001b[35m│\u001b[0m\n",
      "\u001b[35m│\u001b[0m  \u001b[92moriginal intent unchanged. Correct grammar and improve sentence structure\u001b[0m  \u001b[35m│\u001b[0m\n",
      "\u001b[35m│\u001b[0m  \u001b[92mas needed. \u001b[0m                                                                \u001b[35m│\u001b[0m\n",
      "\u001b[35m│\u001b[0m  \u001b[92m     Original email to improve:\u001b[0m                                            \u001b[35m│\u001b[0m\n",
      "\u001b[35m│\u001b[0m  \u001b[92m    '''hey ayush can u pls chng the monday OOPJ n AWT class time frm 12-2\u001b[0m  \u001b[35m│\u001b[0m\n",
      "\u001b[35m│\u001b[0m  \u001b[92mto 3-5 its free slot i hv to go home for sum emergncy wrk. dipanshu bca \u001b[0m   \u001b[35m│\u001b[0m\n",
      "\u001b[35m│\u001b[0m  \u001b[92meve 24-27'''\u001b[0m                                                               \u001b[35m│\u001b[0m\n",
      "\u001b[35m│\u001b[0m                                                                             \u001b[35m│\u001b[0m\n",
      "\u001b[35m└─────────────────────────────────────────────────────────────────────────────┘\u001b[0m\n",
      "\n"
     ]
    },
    {
     "name": "stdout",
     "output_type": "stream",
     "text": [
      "\u001b[35m┌─\u001b[0m\u001b[35m─────────────────────────\u001b[0m\u001b[35m 🔧 Agent Tool Execution \u001b[0m\u001b[35m─────────────────────────\u001b[0m\u001b[35m─┐\u001b[0m\n",
      "\u001b[35m│\u001b[0m                                                                             \u001b[35m│\u001b[0m\n",
      "\u001b[35m│\u001b[0m  \u001b[37mAgent: \u001b[0m\u001b[1;92mEmail Assistant Agent\u001b[0m                                               \u001b[35m│\u001b[0m\n",
      "\u001b[35m│\u001b[0m                                                                             \u001b[35m│\u001b[0m\n",
      "\u001b[35m│\u001b[0m  \u001b[37mThought: \u001b[0m\u001b[92mFirst, let's clarify the original message for better \u001b[0m             \u001b[35m│\u001b[0m\n",
      "\u001b[35m│\u001b[0m  \u001b[92munderstanding:\u001b[0m                                                             \u001b[35m│\u001b[0m\n",
      "\u001b[35m│\u001b[0m  \u001b[92m\"Hey Ayush, can you please change the Monday OOPJ and AWT class time from\u001b[0m  \u001b[35m│\u001b[0m\n",
      "\u001b[35m│\u001b[0m  \u001b[92m12-2 to 3-5. It's a free slot, I have to go home for some emergency work.\u001b[0m  \u001b[35m│\u001b[0m\n",
      "\u001b[35m│\u001b[0m  \u001b[92mDipanshu (BCA) Eve 24-27.\"\u001b[0m                                                 \u001b[35m│\u001b[0m\n",
      "\u001b[35m│\u001b[0m                                                                             \u001b[35m│\u001b[0m\n",
      "\u001b[35m│\u001b[0m  \u001b[37mUsing Tool: \u001b[0m\u001b[1;92mReplace Jargons\u001b[0m                                                \u001b[35m│\u001b[0m\n",
      "\u001b[35m│\u001b[0m                                                                             \u001b[35m│\u001b[0m\n",
      "\u001b[35m└─────────────────────────────────────────────────────────────────────────────┘\u001b[0m\n",
      "\u001b[34m┌─\u001b[0m\u001b[34m───────────────────────────────\u001b[0m\u001b[34m Tool Input \u001b[0m\u001b[34m────────────────────────────────\u001b[0m\u001b[34m─┐\u001b[0m\n",
      "\u001b[34m│\u001b[0m                                                                             \u001b[34m│\u001b[0m\n",
      "\u001b[34m│\u001b[0m  \u001b[93;49m\"{\\\"email\\\": \\\"Hey Ayush, can you please change the Monday OOPJ and AWT c\u001b[0m  \u001b[34m│\u001b[0m\n",
      "\u001b[34m│\u001b[0m                                                                             \u001b[34m│\u001b[0m\n",
      "\u001b[34m└─────────────────────────────────────────────────────────────────────────────┘\u001b[0m\n",
      "\u001b[32m┌─\u001b[0m\u001b[32m───────────────────────────────\u001b[0m\u001b[32m Tool Output \u001b[0m\u001b[32m───────────────────────────────\u001b[0m\u001b[32m─┐\u001b[0m\n",
      "\u001b[32m│\u001b[0m                                                                             \u001b[32m│\u001b[0m\n",
      "\u001b[32m│\u001b[0m  \u001b[92mConsider replacing 'OOPJ' with 'Java'\u001b[0m                                      \u001b[32m│\u001b[0m\n",
      "\u001b[32m│\u001b[0m  \u001b[92mConsider replacing 'AWT' with 'Advanced web technology'\u001b[0m                    \u001b[32m│\u001b[0m\n",
      "\u001b[32m│\u001b[0m  \u001b[92mConsider replacing 'BCA' with 'Bachelor of Computer Applications'\u001b[0m          \u001b[32m│\u001b[0m\n",
      "\u001b[32m│\u001b[0m  \u001b[92mConsider replacing 'u' with 'you'\u001b[0m                                          \u001b[32m│\u001b[0m\n",
      "\u001b[32m│\u001b[0m                                                                             \u001b[32m│\u001b[0m\n",
      "\u001b[32m└─────────────────────────────────────────────────────────────────────────────┘\u001b[0m\n",
      "\n",
      "\u001b[32m┌─\u001b[0m\u001b[32m──────────────────────────\u001b[0m\u001b[32m ✅ Agent Final Answer \u001b[0m\u001b[32m──────────────────────────\u001b[0m\u001b[32m─┐\u001b[0m\n",
      "\u001b[32m│\u001b[0m                                                                             \u001b[32m│\u001b[0m\n",
      "\u001b[32m│\u001b[0m  \u001b[37mAgent: \u001b[0m\u001b[1;92mEmail Assistant Agent\u001b[0m                                               \u001b[32m│\u001b[0m\n",
      "\u001b[32m│\u001b[0m                                                                             \u001b[32m│\u001b[0m\n",
      "\u001b[32m│\u001b[0m  \u001b[37mFinal Answer:\u001b[0m                                                              \u001b[32m│\u001b[0m\n",
      "\u001b[32m│\u001b[0m  \u001b[92mSubject: Request for change in class schedule on Monday, February 24\u001b[0m       \u001b[32m│\u001b[0m\n",
      "\u001b[32m│\u001b[0m                                                                             \u001b[32m│\u001b[0m\n",
      "\u001b[32m│\u001b[0m  \u001b[92mDear Ayush,\u001b[0m                                                                \u001b[32m│\u001b[0m\n",
      "\u001b[32m│\u001b[0m                                                                             \u001b[32m│\u001b[0m\n",
      "\u001b[32m│\u001b[0m  \u001b[92mI hope this email finds you well. I am writing to inform you that I am \u001b[0m    \u001b[32m│\u001b[0m\n",
      "\u001b[32m│\u001b[0m  \u001b[92munable to attend the Java and Advanced Web Technology class scheduled \u001b[0m     \u001b[32m│\u001b[0m\n",
      "\u001b[32m│\u001b[0m  \u001b[92mfrom 12:00 PM to 2:00 PM on Monday, February 24th. I have an emergency \u001b[0m    \u001b[32m│\u001b[0m\n",
      "\u001b[32m│\u001b[0m  \u001b[92msituation that requires my immediate attention and I will have to leave \u001b[0m   \u001b[32m│\u001b[0m\n",
      "\u001b[32m│\u001b[0m  \u001b[92mfor home.\u001b[0m                                                                  \u001b[32m│\u001b[0m\n",
      "\u001b[32m│\u001b[0m                                                                             \u001b[32m│\u001b[0m\n",
      "\u001b[32m│\u001b[0m  \u001b[92mI would appreciate it if you could kindly reschedule my attendance for \u001b[0m    \u001b[32m│\u001b[0m\n",
      "\u001b[32m│\u001b[0m  \u001b[92mthe class to a slot that is more convenient for me, specifically from \u001b[0m     \u001b[32m│\u001b[0m\n",
      "\u001b[32m│\u001b[0m  \u001b[92m3:00 PM to 5:00 PM as it is currently free in my schedule.\u001b[0m                 \u001b[32m│\u001b[0m\n",
      "\u001b[32m│\u001b[0m                                                                             \u001b[32m│\u001b[0m\n",
      "\u001b[32m│\u001b[0m  \u001b[92mI apologize for any inconvenience this may cause and I am looking forward\u001b[0m  \u001b[32m│\u001b[0m\n",
      "\u001b[32m│\u001b[0m  \u001b[92mto your positive response.\u001b[0m                                                 \u001b[32m│\u001b[0m\n",
      "\u001b[32m│\u001b[0m                                                                             \u001b[32m│\u001b[0m\n",
      "\u001b[32m│\u001b[0m  \u001b[92mThank you for your understanding and cooperation.\u001b[0m                          \u001b[32m│\u001b[0m\n",
      "\u001b[32m│\u001b[0m                                                                             \u001b[32m│\u001b[0m\n",
      "\u001b[32m│\u001b[0m  \u001b[92mBest Regards,\u001b[0m                                                              \u001b[32m│\u001b[0m\n",
      "\u001b[32m│\u001b[0m                                                                             \u001b[32m│\u001b[0m\n",
      "\u001b[32m│\u001b[0m  \u001b[92mDipanshu\u001b[0m                                                                   \u001b[32m│\u001b[0m\n",
      "\u001b[32m│\u001b[0m  \u001b[92mBachelor of Computer Applications (BCA)\u001b[0m                                    \u001b[32m│\u001b[0m\n",
      "\u001b[32m│\u001b[0m  \u001b[92mEve 24-27\u001b[0m                                                                  \u001b[32m│\u001b[0m\n",
      "\u001b[32m│\u001b[0m                                                                             \u001b[32m│\u001b[0m\n",
      "\u001b[32m└─────────────────────────────────────────────────────────────────────────────┘\u001b[0m\n",
      "\n",
      "\n",
      "\n",
      "FINAL RESULT:\n",
      "Subject: Request for change in class schedule on Monday, February 24\n",
      "\n",
      "Dear Ayush,\n",
      "\n",
      "I hope this email finds you well. I am writing to inform you that I am unable to attend the Java and Advanced Web Technology class scheduled from 12:00 PM to 2:00 PM on Monday, February 24th. I have an emergency situation that requires my immediate attention and I will have to leave for home.\n",
      "\n",
      "I would appreciate it if you could kindly reschedule my attendance for the class to a slot that is more convenient for me, specifically from 3:00 PM to 5:00 PM as it is currently free in my schedule.\n",
      "\n",
      "I apologize for any inconvenience this may cause and I am looking forward to your positive response.\n",
      "\n",
      "Thank you for your understanding and cooperation.\n",
      "\n",
      "Best Regards,\n",
      "\n",
      "Dipanshu\n",
      "Bachelor of Computer Applications (BCA)\n",
      "Eve 24-27\n"
     ]
    }
   ],
   "source": [
    "crew = Crew(\n",
    "    agents = [email_assistant],\n",
    "    tasks = [email_task],\n",
    "    verbose=False\n",
    ")\n",
    "\n",
    "\n",
    "import sys\n",
    "result = crew.kickoff()\n",
    "sys.stdout.flush()  # Force output to display\n",
    "print(f\"\\n\\nFINAL RESULT:\\n{result}\")\n"
   ]
  },
  {
   "cell_type": "code",
   "execution_count": 33,
   "id": "724e6cfa",
   "metadata": {},
   "outputs": [
    {
     "name": "stdout",
     "output_type": "stream",
     "text": [
      "Result also saved to 'improved_email.txt'\n"
     ]
    }
   ],
   "source": [
    "with open(\"improved_email.txt\", \"w\", encoding=\"utf-8\") as f:\n",
    "    f.write(\"ORIGINAL EMAIL:\\n\")\n",
    "    f.write(original_email)\n",
    "    f.write(\"\\n\\nIMPROVED EMAIL:\\n\")\n",
    "    f.write(str(result))\n",
    "\n",
    "print(\"Result also saved to 'improved_email.txt'\")"
   ]
  },
  {
   "cell_type": "code",
   "execution_count": null,
   "id": "ef68a775",
   "metadata": {},
   "outputs": [],
   "source": []
  }
 ],
 "metadata": {
  "kernelspec": {
   "display_name": "crew-ai",
   "language": "python",
   "name": "python3"
  },
  "language_info": {
   "codemirror_mode": {
    "name": "ipython",
    "version": 3
   },
   "file_extension": ".py",
   "mimetype": "text/x-python",
   "name": "python",
   "nbconvert_exporter": "python",
   "pygments_lexer": "ipython3",
   "version": "3.10.0"
  }
 },
 "nbformat": 4,
 "nbformat_minor": 5
}
