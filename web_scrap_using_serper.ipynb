{
 "cells": [
  {
   "cell_type": "code",
   "execution_count": 84,
   "id": "bbd339ff",
   "metadata": {},
   "outputs": [
    {
     "data": {
      "text/plain": [
       "True"
      ]
     },
     "execution_count": 84,
     "metadata": {},
     "output_type": "execute_result"
    }
   ],
   "source": [
    "from dotenv import load_dotenv\n",
    "from crewai import LLM,Agent,Crew,Task,Process\n",
    "from crewai_tools import SerperDevTool,SerperScrapeWebsiteTool\n",
    "load_dotenv()"
   ]
  },
  {
   "cell_type": "code",
   "execution_count": 85,
   "id": "bcf16a34",
   "metadata": {},
   "outputs": [
    {
     "name": "stdout",
     "output_type": "stream",
     "text": [
      "<crewai.llm.LLM object at 0x0000024B6ED93130>\n"
     ]
    }
   ],
   "source": [
    "import os\n",
    "model = LLM(\n",
    "    model=\"google/gemma-3n-e2b-it:free\",\n",
    "    api_key=os.getenv(\"OPENROUTER_API_KEY\"),\n",
    "    base_url=\"https://openrouter.ai/api/v1\",\n",
    "    temperature=0.7,\n",
    ")\n",
    "print(model)"
   ]
  },
  {
   "cell_type": "markdown",
   "id": "fa2222b2",
   "metadata": {},
   "source": [
    "Agent 1 : Searcher"
   ]
  },
  {
   "cell_type": "code",
   "execution_count": 86,
   "id": "6b493c54",
   "metadata": {},
   "outputs": [],
   "source": [
    "searcher = Agent(\n",
    "    role=\"website Seacher\",\n",
    "    goal=\"Find top 3 relevent URLs for the query and return them as a ordered list.\",\n",
    "    backstory=\"Your are skilled at extract clean and valuable readable text in markdown format with short summeries.\",\n",
    "    tools=[SerperDevTool()],\n",
    "    verbose=True,\n",
    "    allow_delegation=False,\n",
    "    llm=model\n",
    ")"
   ]
  },
  {
   "cell_type": "markdown",
   "id": "cbbac8a5",
   "metadata": {},
   "source": [
    "Agent 2 : Scraper"
   ]
  },
  {
   "cell_type": "code",
   "execution_count": 87,
   "id": "5f078d7a",
   "metadata": {},
   "outputs": [],
   "source": [
    "Scarper = Agent(\n",
    "    role=\"Website Scarper\",\n",
    "    goal=\"Scrape given URLs and extract clean and valuable readable text in markdown format with short summaries.\",\n",
    "    backstory=\"You are skilled at extracting and cleaning website content for easy reading.\",\n",
    "    tools=[SerperScrapeWebsiteTool()],\n",
    "    verbose=True,\n",
    "    allow_delegation=False,\n",
    "    llm=model\n",
    ")"
   ]
  },
  {
   "cell_type": "markdown",
   "id": "58819a44",
   "metadata": {},
   "source": [
    "Task 1 "
   ]
  },
  {
   "cell_type": "code",
   "execution_count": 88,
   "id": "fdf89d30",
   "metadata": {},
   "outputs": [],
   "source": [
    "Search_task = Task(\n",
    "    description=\"Search the web for the topic 'Growth of GPUs' and return a JSON list of top 3 URLs.\",\n",
    "    expected_output=\"A JSON list with 3 URLs in the field 'urls' .\",\n",
    "    agent = searcher,\n",
    ")"
   ]
  },
  {
   "cell_type": "markdown",
   "id": "5a3f35de",
   "metadata": {},
   "source": [
    "Task 2"
   ]
  },
  {
   "cell_type": "code",
   "execution_count": 89,
   "id": "5b72d440",
   "metadata": {},
   "outputs": [],
   "source": [
    "Scarpe_task = Task(\n",
    "    description=\"Scarpe each URls from the previous task and neat and clean markdown report with summaries.\",\n",
    "    expected_output=\"Markdown content with summaries fro each scraped page.\",\n",
    "    agent=Scarper\n",
    ")"
   ]
  },
  {
   "cell_type": "markdown",
   "id": "a6b339dd",
   "metadata": {},
   "source": [
    "Excution of Tasks and Agents"
   ]
  },
  {
   "cell_type": "code",
   "execution_count": 90,
   "id": "e67944bc",
   "metadata": {},
   "outputs": [],
   "source": [
    "crew = Crew(\n",
    "    agents=[searcher,Scarper],\n",
    "    tasks=[Search_task,Scarpe_task],\n",
    "    process=Process.sequential,\n",
    "    verbose=True,\n",
    "    llm=model\n",
    ")"
   ]
  },
  {
   "cell_type": "markdown",
   "id": "46db5a8f",
   "metadata": {},
   "source": [
    "Output"
   ]
  },
  {
   "cell_type": "code",
   "execution_count": null,
   "id": "a6f72d2d",
   "metadata": {},
   "outputs": [],
   "source": [
    "if __name__ == \"__main__\":\n",
    "    result = crew.kickoff()\n",
    "    print(\"\\n ==\"*50)\n",
    "    print(\"\\n ==== FINAL RESULT ====\\n\")\n",
    "    print(result)"
   ]
  },
  {
   "cell_type": "code",
   "execution_count": null,
   "id": "3c86193a",
   "metadata": {},
   "outputs": [],
   "source": []
  }
 ],
 "metadata": {
  "kernelspec": {
   "display_name": "crew-ai",
   "language": "python",
   "name": "python3"
  },
  "language_info": {
   "codemirror_mode": {
    "name": "ipython",
    "version": 3
   },
   "file_extension": ".py",
   "mimetype": "text/x-python",
   "name": "python",
   "nbconvert_exporter": "python",
   "pygments_lexer": "ipython3",
   "version": "3.10.0"
  }
 },
 "nbformat": 4,
 "nbformat_minor": 5
}
